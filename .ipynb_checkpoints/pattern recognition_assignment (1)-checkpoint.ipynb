{
 "cells": [
  {
   "cell_type": "code",
   "execution_count": 83,
   "metadata": {},
   "outputs": [],
   "source": [
    "import pandas as pd\n",
    "import numpy as np"
   ]
  },
  {
   "cell_type": "code",
   "execution_count": 89,
   "metadata": {},
   "outputs": [
    {
     "data": {
      "text/html": [
       "<div>\n",
       "<style scoped>\n",
       "    .dataframe tbody tr th:only-of-type {\n",
       "        vertical-align: middle;\n",
       "    }\n",
       "\n",
       "    .dataframe tbody tr th {\n",
       "        vertical-align: top;\n",
       "    }\n",
       "\n",
       "    .dataframe thead th {\n",
       "        text-align: right;\n",
       "    }\n",
       "</style>\n",
       "<table border=\"1\" class=\"dataframe\">\n",
       "  <thead>\n",
       "    <tr style=\"text-align: right;\">\n",
       "      <th></th>\n",
       "      <th>website name</th>\n",
       "      <th>checking whether it has a legitmate name</th>\n",
       "      <th>external backlinks</th>\n",
       "      <th>referring domains</th>\n",
       "      <th>good url</th>\n",
       "    </tr>\n",
       "  </thead>\n",
       "  <tbody>\n",
       "    <tr>\n",
       "      <th>0</th>\n",
       "      <td>Facebook.com</td>\n",
       "      <td>1</td>\n",
       "      <td>2.147484e+09</td>\n",
       "      <td>26392237.0</td>\n",
       "      <td>1.0</td>\n",
       "    </tr>\n",
       "    <tr>\n",
       "      <th>1</th>\n",
       "      <td>Twitter.com</td>\n",
       "      <td>1</td>\n",
       "      <td>2.147484e+09</td>\n",
       "      <td>17015923.0</td>\n",
       "      <td>1.0</td>\n",
       "    </tr>\n",
       "    <tr>\n",
       "      <th>2</th>\n",
       "      <td>Google.com</td>\n",
       "      <td>1</td>\n",
       "      <td>2.147484e+09</td>\n",
       "      <td>22432446.0</td>\n",
       "      <td>1.0</td>\n",
       "    </tr>\n",
       "    <tr>\n",
       "      <th>3</th>\n",
       "      <td>Youtube.com</td>\n",
       "      <td>1</td>\n",
       "      <td>2.147484e+09</td>\n",
       "      <td>16375554.0</td>\n",
       "      <td>1.0</td>\n",
       "    </tr>\n",
       "    <tr>\n",
       "      <th>4</th>\n",
       "      <td>Instagram.com</td>\n",
       "      <td>1</td>\n",
       "      <td>2.147484e+09</td>\n",
       "      <td>8750057.0</td>\n",
       "      <td>1.0</td>\n",
       "    </tr>\n",
       "  </tbody>\n",
       "</table>\n",
       "</div>"
      ],
      "text/plain": [
       "    website name  checking whether it has a legitmate name  \\\n",
       "0   Facebook.com                                         1   \n",
       "1    Twitter.com                                         1   \n",
       "2     Google.com                                         1   \n",
       "3    Youtube.com                                         1   \n",
       "4  Instagram.com                                         1   \n",
       "\n",
       "   external backlinks  referring domains  good url  \n",
       "0        2.147484e+09         26392237.0       1.0  \n",
       "1        2.147484e+09         17015923.0       1.0  \n",
       "2        2.147484e+09         22432446.0       1.0  \n",
       "3        2.147484e+09         16375554.0       1.0  \n",
       "4        2.147484e+09          8750057.0       1.0  "
      ]
     },
     "execution_count": 89,
     "metadata": {},
     "output_type": "execute_result"
    }
   ],
   "source": [
    "df=pd.read_csv('PR_data.csv')\n",
    "df.head()"
   ]
  },
  {
   "cell_type": "code",
   "execution_count": 156,
   "metadata": {},
   "outputs": [],
   "source": [
    "x=df\n",
    "x=x.drop('website name',axis=1)\n",
    "#x=x.drop('good url',axis=1)\n",
    "y=df['good url']"
   ]
  },
  {
   "cell_type": "code",
   "execution_count": 157,
   "metadata": {},
   "outputs": [
    {
     "data": {
      "text/html": [
       "<div>\n",
       "<style scoped>\n",
       "    .dataframe tbody tr th:only-of-type {\n",
       "        vertical-align: middle;\n",
       "    }\n",
       "\n",
       "    .dataframe tbody tr th {\n",
       "        vertical-align: top;\n",
       "    }\n",
       "\n",
       "    .dataframe thead th {\n",
       "        text-align: right;\n",
       "    }\n",
       "</style>\n",
       "<table border=\"1\" class=\"dataframe\">\n",
       "  <thead>\n",
       "    <tr style=\"text-align: right;\">\n",
       "      <th></th>\n",
       "      <th>checking whether it has a legitmate name</th>\n",
       "      <th>external backlinks</th>\n",
       "      <th>referring domains</th>\n",
       "      <th>good url</th>\n",
       "    </tr>\n",
       "  </thead>\n",
       "  <tbody>\n",
       "    <tr>\n",
       "      <th>0</th>\n",
       "      <td>1</td>\n",
       "      <td>2.147484e+09</td>\n",
       "      <td>26392237.0</td>\n",
       "      <td>1.0</td>\n",
       "    </tr>\n",
       "    <tr>\n",
       "      <th>1</th>\n",
       "      <td>1</td>\n",
       "      <td>2.147484e+09</td>\n",
       "      <td>17015923.0</td>\n",
       "      <td>1.0</td>\n",
       "    </tr>\n",
       "    <tr>\n",
       "      <th>2</th>\n",
       "      <td>1</td>\n",
       "      <td>2.147484e+09</td>\n",
       "      <td>22432446.0</td>\n",
       "      <td>1.0</td>\n",
       "    </tr>\n",
       "    <tr>\n",
       "      <th>3</th>\n",
       "      <td>1</td>\n",
       "      <td>2.147484e+09</td>\n",
       "      <td>16375554.0</td>\n",
       "      <td>1.0</td>\n",
       "    </tr>\n",
       "    <tr>\n",
       "      <th>4</th>\n",
       "      <td>1</td>\n",
       "      <td>2.147484e+09</td>\n",
       "      <td>8750057.0</td>\n",
       "      <td>1.0</td>\n",
       "    </tr>\n",
       "  </tbody>\n",
       "</table>\n",
       "</div>"
      ],
      "text/plain": [
       "   checking whether it has a legitmate name  external backlinks  \\\n",
       "0                                         1        2.147484e+09   \n",
       "1                                         1        2.147484e+09   \n",
       "2                                         1        2.147484e+09   \n",
       "3                                         1        2.147484e+09   \n",
       "4                                         1        2.147484e+09   \n",
       "\n",
       "   referring domains  good url  \n",
       "0         26392237.0       1.0  \n",
       "1         17015923.0       1.0  \n",
       "2         22432446.0       1.0  \n",
       "3         16375554.0       1.0  \n",
       "4          8750057.0       1.0  "
      ]
     },
     "execution_count": 157,
     "metadata": {},
     "output_type": "execute_result"
    }
   ],
   "source": [
    "x.head()"
   ]
  },
  {
   "cell_type": "code",
   "execution_count": 158,
   "metadata": {},
   "outputs": [
    {
     "data": {
      "text/plain": [
       "1.0"
      ]
     },
     "execution_count": 158,
     "metadata": {},
     "output_type": "execute_result"
    }
   ],
   "source": [
    "from sklearn.naive_bayes import MultinomialNB\n",
    "from sklearn.model_selection import train_test_split\n",
    "x_train, x_test, y_train, y_test = train_test_split(x, y, test_size=0.2, random_state=42)\n",
    "from sklearn.metrics import accuracy_score\n",
    "clf = MultinomialNB()\n",
    "clf.fit(x_train,y_train)\n",
    "y_pred=clf.predict(x_test)\n",
    "accuracy_score(y_test, y_pred)"
   ]
  },
  {
   "cell_type": "code",
   "execution_count": 159,
   "metadata": {},
   "outputs": [
    {
     "name": "stderr",
     "output_type": "stream",
     "text": [
      "C:\\Users\\Siva\\Anaconda3\\lib\\site-packages\\ipykernel_launcher.py:4: DeprecationWarning: \n",
      ".ix is deprecated. Please use\n",
      ".loc for label based indexing or\n",
      ".iloc for positional indexing\n",
      "\n",
      "See the documentation here:\n",
      "http://pandas.pydata.org/pandas-docs/stable/indexing.html#ix-indexer-is-deprecated\n",
      "  after removing the cwd from sys.path.\n",
      "C:\\Users\\Siva\\Anaconda3\\lib\\site-packages\\ipykernel_launcher.py:5: DeprecationWarning: \n",
      ".ix is deprecated. Please use\n",
      ".loc for label based indexing or\n",
      ".iloc for positional indexing\n",
      "\n",
      "See the documentation here:\n",
      "http://pandas.pydata.org/pandas-docs/stable/indexing.html#ix-indexer-is-deprecated\n",
      "  \"\"\"\n",
      "C:\\Users\\Siva\\Anaconda3\\lib\\site-packages\\ipykernel_launcher.py:6: DeprecationWarning: \n",
      ".ix is deprecated. Please use\n",
      ".loc for label based indexing or\n",
      ".iloc for positional indexing\n",
      "\n",
      "See the documentation here:\n",
      "http://pandas.pydata.org/pandas-docs/stable/indexing.html#ix-indexer-is-deprecated\n",
      "  \n"
     ]
    }
   ],
   "source": [
    "x['external backlinks']=np.where(x['external backlinks']> 100,1,0)\n",
    "x['referring domains']=np.where(x['referring domains']> 100,1,0)\n",
    "x['good url']=np.where(x['good url']> 0,1,0)\n",
    "x.ix[28,'external backlinks']=1\n",
    "x.ix[28,'referring domains']=1\n",
    "x.ix[21,'external backlinks']=1\n"
   ]
  },
  {
   "cell_type": "code",
   "execution_count": 293,
   "metadata": {},
   "outputs": [
    {
     "data": {
      "text/html": [
       "<div>\n",
       "<style scoped>\n",
       "    .dataframe tbody tr th:only-of-type {\n",
       "        vertical-align: middle;\n",
       "    }\n",
       "\n",
       "    .dataframe tbody tr th {\n",
       "        vertical-align: top;\n",
       "    }\n",
       "\n",
       "    .dataframe thead th {\n",
       "        text-align: right;\n",
       "    }\n",
       "</style>\n",
       "<table border=\"1\" class=\"dataframe\">\n",
       "  <thead>\n",
       "    <tr style=\"text-align: right;\">\n",
       "      <th></th>\n",
       "      <th>checking whether it has a legitmate name</th>\n",
       "      <th>external backlinks</th>\n",
       "      <th>referring domains</th>\n",
       "      <th>good url</th>\n",
       "    </tr>\n",
       "  </thead>\n",
       "  <tbody>\n",
       "    <tr>\n",
       "      <th>0</th>\n",
       "      <td>1</td>\n",
       "      <td>1</td>\n",
       "      <td>1</td>\n",
       "      <td>1</td>\n",
       "    </tr>\n",
       "    <tr>\n",
       "      <th>1</th>\n",
       "      <td>1</td>\n",
       "      <td>1</td>\n",
       "      <td>1</td>\n",
       "      <td>1</td>\n",
       "    </tr>\n",
       "    <tr>\n",
       "      <th>2</th>\n",
       "      <td>1</td>\n",
       "      <td>1</td>\n",
       "      <td>1</td>\n",
       "      <td>1</td>\n",
       "    </tr>\n",
       "    <tr>\n",
       "      <th>3</th>\n",
       "      <td>1</td>\n",
       "      <td>1</td>\n",
       "      <td>1</td>\n",
       "      <td>1</td>\n",
       "    </tr>\n",
       "    <tr>\n",
       "      <th>4</th>\n",
       "      <td>1</td>\n",
       "      <td>1</td>\n",
       "      <td>1</td>\n",
       "      <td>1</td>\n",
       "    </tr>\n",
       "  </tbody>\n",
       "</table>\n",
       "</div>"
      ],
      "text/plain": [
       "   checking whether it has a legitmate name  external backlinks  \\\n",
       "0                                         1                   1   \n",
       "1                                         1                   1   \n",
       "2                                         1                   1   \n",
       "3                                         1                   1   \n",
       "4                                         1                   1   \n",
       "\n",
       "   referring domains  good url  \n",
       "0                  1         1  \n",
       "1                  1         1  \n",
       "2                  1         1  \n",
       "3                  1         1  \n",
       "4                  1         1  "
      ]
     },
     "execution_count": 293,
     "metadata": {},
     "output_type": "execute_result"
    }
   ],
   "source": [
    "x.head()"
   ]
  },
  {
   "cell_type": "markdown",
   "metadata": {},
   "source": [
    "let c be feature 1,e be feature2 and r be feature 3 and y be whether good or bad url"
   ]
  },
  {
   "cell_type": "code",
   "execution_count": 288,
   "metadata": {},
   "outputs": [],
   "source": [
    "Post_x1_0_good= len(x[(x['good url']==1 ) & (x['checking whether it has a legitmate name']==0)])/20\n",
    "Post_x1_1_good= len(x[(x['good url']==1 ) & (x['checking whether it has a legitmate name']==1)])/20\n",
    "Post_x1_0_bad= len(x[(x['good url']==0 ) & (x['checking whether it has a legitmate name']==0)])/20\n",
    "Post_x1_1_bad= len(x[(x['good url']==0 ) & (x['checking whether it has a legitmate name']==1)])/20\n",
    "\n",
    "Post_x2_0_good= len(x[(x['good url']==1 ) & (x['external backlinks']==0)])/20\n",
    "Post_x2_1_good= len(x[(x['good url']==1 ) & (x['external backlinks']==1)])/20\n",
    "Post_x2_0_bad= len(x[(x['good url']==0 ) & (x['external backlinks']==0)])/20\n",
    "Post_x2_1_bad= len(x[(x['good url']==0 ) & (x['external backlinks']==1)])/20\n",
    "\n",
    "\n",
    "Post_x3_0_good= len(x[(x['good url']==1 ) & (x['referring domains']==0)])/20\n",
    "Post_x3_1_good= len(x[(x['good url']==1 ) & (x['referring domains']==1)])/20\n",
    "Post_x3_0_bad= len(x[(x['good url']==0 ) & (x['referring domains']==0)])/20\n",
    "Post_x3_1_bad= len(x[(x['good url']==0 ) & (x['referring domains']==1)])/20\n",
    "\n",
    "post_x1 = np.zeros(shape=(2,2))\n",
    "post_x1[0,0]=Post_x1_0_bad\n",
    "post_x1[0,1]=Post_x1_0_good\n",
    "post_x1[1,0]=Post_x1_1_bad\n",
    "post_x1[1,1]=Post_x1_1_good\n",
    "\n",
    "post_x2 = np.zeros(shape=(2,2))\n",
    "post_x2[0,0]=Post_x2_0_bad\n",
    "post_x2[0,1]=Post_x2_0_good\n",
    "post_x2[1,0]=Post_x2_1_bad\n",
    "post_x2[1,1]=Post_x2_1_good\n",
    "\n",
    "post_x3 = np.zeros(shape=(2,2))\n",
    "post_x3[0,0]=Post_x3_0_bad\n",
    "post_x3[0,1]=Post_x3_0_good\n",
    "post_x3[1,0]=Post_x3_1_bad\n",
    "post_x3[1,1]=Post_x3_1_good"
   ]
  },
  {
   "cell_type": "code",
   "execution_count": 289,
   "metadata": {},
   "outputs": [],
   "source": [
    "post_x2[0,1]=0.01\n",
    "post_x2[1,1]=0.99\n",
    "post_x3[0,1]=0.02\n",
    "post_x3[1,1]=0.98"
   ]
  },
  {
   "cell_type": "code",
   "execution_count": 290,
   "metadata": {},
   "outputs": [],
   "source": [
    "a=1\n",
    "a=int(a)\n",
    "b=1\n",
    "b=int(b)\n",
    "c=1\n",
    "c=int(c)\n",
    "\n",
    "#p_good=(0.5*(post_x1[a][1])*(post_x2[b][1])(post_x3[c][1]))/(0.5*(post_x1[a][1])*(post_x2[b][1])(post_x3[c][1]))+(0.5*(post_x1[a][0])*(post_x2[b][0])(post_x3[c][0]))\n",
    "p_good=(0.5*(post_x1[a,1])*(post_x2[b,1])*(post_x3[c,1]))/((0.5*(post_x1[a,1])*(post_x2[b,1])*(post_x3[c,1]))+(0.5*(post_x1[a,0])*(post_x2[b,0])*(post_x3[c,0])))\n"
   ]
  },
  {
   "cell_type": "code",
   "execution_count": 291,
   "metadata": {},
   "outputs": [
    {
     "data": {
      "text/plain": [
       "array([[1.05, 0.02],\n",
       "       [0.05, 0.98]])"
      ]
     },
     "execution_count": 291,
     "metadata": {},
     "output_type": "execute_result"
    }
   ],
   "source": [
    "post_x3"
   ]
  },
  {
   "cell_type": "code",
   "execution_count": 292,
   "metadata": {},
   "outputs": [
    {
     "data": {
      "text/plain": [
       "0.9989162123790222"
      ]
     },
     "execution_count": 292,
     "metadata": {},
     "output_type": "execute_result"
    }
   ],
   "source": [
    "p_good"
   ]
  },
  {
   "cell_type": "code",
   "execution_count": 275,
   "metadata": {},
   "outputs": [
    {
     "data": {
      "text/plain": [
       "0.0"
      ]
     },
     "execution_count": 275,
     "metadata": {},
     "output_type": "execute_result"
    }
   ],
   "source": [
    "0.5*(post_x1[a,1])*(post_x2[b,1])*(post_x3[c,1])"
   ]
  },
  {
   "cell_type": "code",
   "execution_count": null,
   "metadata": {},
   "outputs": [],
   "source": []
  }
 ],
 "metadata": {
  "kernelspec": {
   "display_name": "Python 3",
   "language": "python",
   "name": "python3"
  },
  "language_info": {
   "codemirror_mode": {
    "name": "ipython",
    "version": 3
   },
   "file_extension": ".py",
   "mimetype": "text/x-python",
   "name": "python",
   "nbconvert_exporter": "python",
   "pygments_lexer": "ipython3",
   "version": "3.6.4"
  }
 },
 "nbformat": 4,
 "nbformat_minor": 2
}
