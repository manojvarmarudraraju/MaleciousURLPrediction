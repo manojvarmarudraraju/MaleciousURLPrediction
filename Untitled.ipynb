{
 "cells": [
  {
   "cell_type": "code",
   "execution_count": 1,
   "metadata": {},
   "outputs": [
    {
     "name": "stdout",
     "output_type": "stream",
     "text": [
      "\n",
      "\n",
      "\n",
      "\n",
      "\n",
      "\n",
      "\n",
      "\n",
      "\n",
      "\n",
      "Empty DataFrame\n",
      "Columns: [url, domaainname, urllength, largestdomain, hostlength, mal]\n",
      "Index: []\n"
     ]
    }
   ],
   "source": [
    "import pandas as pd\n",
    "import numpy as np\n",
    "data=pd.read_csv('mal.csv')\n",
    "mal=data['malicious'].values\n",
    "url=data['URL'].values\n",
    "host=data['host'].values\n",
    "length=[]\n",
    "for i in range(len(url)):\n",
    "    length.append(len(url[i]))\n",
    "largestdomain=[]\n",
    "hostlength=[]\n",
    "for i in range(len(host)):\n",
    "    cost=[]\n",
    "    a=url[i].split(\"/\")\n",
    "    if i<10:\n",
    "        print(a[1])\n",
    "    hostlength.append(len(host[i]))\n",
    "    for j in range(len(a)):\n",
    "        cost.append(len(a[j]))\n",
    "    if max(cost)<=4:\n",
    "        largestdomain.append(4)\n",
    "    else:\n",
    "        largestdomain.append(max(cost))\n",
    "finaldata=pd.DataFrame(columns=['url','domaainname','urllength','largestdomain','hostlength','mal'])\n",
    "print(finaldata.head())\n",
    "for i in range(len(url)):\n",
    "    finaldata.loc[i]=[url[i],host[i],length[i],largestdomain[i],hostlength[i],mal[i]]\n",
    "finaldata['urllength'] = np.where(finaldata['urllength']<=finaldata['urllength'].mean(), 1,0)\n",
    "finaldata['largestdomain'] = np.where(finaldata['largestdomain']<=finaldata['largestdomain'].mean(), 1,0)\n",
    "finaldata['hostlength'] = np.where(finaldata['hostlength']<=finaldata['hostlength'].mean(), 1,0)\n",
    "\n",
    "x_0_valid= len(finaldata[(finaldata['mal']==1 ) & (finaldata['urllength']==0)])/len(finaldata[(finaldata['mal']==1 )])\n",
    "x_1_valid= len(finaldata[(finaldata['mal']==1 ) & (finaldata['urllength']==1)])/len(finaldata[(finaldata['mal']==1 )])\n",
    "x_0_invalid= len(finaldata[(finaldata['mal']==0 ) & (finaldata['urllength']==0)])/len(finaldata[(finaldata['mal']==0 )])\n",
    "x_1_invalid= len(finaldata[(finaldata['mal']==0 ) & (finaldata['urllength']==1)])/len(finaldata[(finaldata['mal']==0 )])\n",
    "\n",
    "y_0_valid= len(finaldata[(finaldata['mal']==1 ) & (finaldata['largestdomain']==0)])/len(finaldata[(finaldata['mal']==1 )])\n",
    "y_1_valid= len(finaldata[(finaldata['mal']==1 ) & (finaldata['largestdomain']==1)])/len(finaldata[(finaldata['mal']==1 )])\n",
    "y_0_invalid= len(finaldata[(finaldata['mal']==0 ) & (finaldata['largestdomain']==0)])/len(finaldata[(finaldata['mal']==0 )])\n",
    "y_1_invalid= len(finaldata[(finaldata['mal']==0 ) & (finaldata['largestdomain']==1)])/len(finaldata[(finaldata['mal']==0 )])\n",
    "\n",
    "z_0_valid= len(finaldata[(finaldata['mal']==1 ) & (finaldata['hostlength']==0)])/len(finaldata[(finaldata['mal']==1 )])\n",
    "z_1_valid= len(finaldata[(finaldata['mal']==1 ) & (finaldata['hostlength']==1)])/len(finaldata[(finaldata['mal']==1 )])\n",
    "z_0_invalid= len(finaldata[(finaldata['mal']==0 ) & (finaldata['hostlength']==0)])/len(finaldata[(finaldata['mal']==0 )])\n",
    "z_1_invalid= len(finaldata[(finaldata['mal']==0 ) & (finaldata['hostlength']==1)])/len(finaldata[(finaldata['mal']==0 )])\n",
    "\n",
    "\n",
    "mydict = {\n",
    "    'Post_x_0_valid':x_0_valid,\n",
    "    'Post_x_1_valid':x_1_valid,\n",
    "    'Post_x_0_invalid':x_0_invalid,\n",
    "    'Post_x_1_invalid':x_1_invalid,\n",
    "    \n",
    "    'Post_y_0_valid':y_0_valid,\n",
    "    'Post_y_1_valid':y_1_valid,\n",
    "    'Post_y_0_invalid':y_0_invalid,\n",
    "    'Post_y_1_invalid':y_1_invalid,\n",
    "    \n",
    "    'Post_z_0_valid':z_0_valid,\n",
    "    'Post_z_1_valid':z_1_valid,\n",
    "    'Post_z_0_invalid':z_0_invalid,\n",
    "    'Post_z_1_invalid':z_1_invalid\n",
    "    \n",
    "}"
   ]
  }
 ],
 "metadata": {
  "kernelspec": {
   "display_name": "Python 3",
   "language": "python",
   "name": "python3"
  },
  "language_info": {
   "codemirror_mode": {
    "name": "ipython",
    "version": 3
   },
   "file_extension": ".py",
   "mimetype": "text/x-python",
   "name": "python",
   "nbconvert_exporter": "python",
   "pygments_lexer": "ipython3",
   "version": "3.6.8"
  }
 },
 "nbformat": 4,
 "nbformat_minor": 2
}
